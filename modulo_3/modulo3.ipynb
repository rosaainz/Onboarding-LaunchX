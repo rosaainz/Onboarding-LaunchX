{
 "cells": [
  {
   "cell_type": "markdown",
   "metadata": {},
   "source": [
    "## Expresiones de prueba\n",
    "Lo primero que se hace cuando se escribe una instrucción if es comprobar la condición mediante una expresión de prueba.  Si la expresión de prueba es verdadera, ejecuta el bloque de codigo que este en el if."
   ]
  },
  {
   "cell_type": "code",
   "execution_count": 55,
   "metadata": {},
   "outputs": [],
   "source": [
    "a = 97\n",
    "b = 55\n",
    "if a < b: # expresion de prueba: a < b\n",
    "    print(b)"
   ]
  },
  {
   "cell_type": "code",
   "execution_count": 56,
   "metadata": {},
   "outputs": [
    {
     "name": "stdout",
     "output_type": "stream",
     "text": [
      "93\n"
     ]
    }
   ],
   "source": [
    "a = 93\n",
    "b = 27\n",
    "if a >= b:\n",
    "    print(a)\n",
    "\n",
    "#imprime a(93) ya que si es mayor que b(27)"
   ]
  },
  {
   "cell_type": "markdown",
   "metadata": {},
   "source": [
    "En Python, el cuerpo de la instrucción IF debe tener sangría (4 espacios). Siempre se ejecuta cualquier código que siga a una expresion de prueba que no tenga sangría, o sea, el flujo del código sigue con las líneas que no tengan sangría."
   ]
  },
  {
   "cell_type": "markdown",
   "metadata": {},
   "source": [
    "Ejemplo:"
   ]
  },
  {
   "cell_type": "code",
   "execution_count": 57,
   "metadata": {},
   "outputs": [
    {
     "name": "stdout",
     "output_type": "stream",
     "text": [
      "44\n"
     ]
    }
   ],
   "source": [
    "a = 24\n",
    "b = 44\n",
    "if a <= 0:\n",
    "    print(a)\n",
    "print(b)\n",
    "\n",
    "# Imprime: b(44), ya que a(24) no es menor o igual que 0 \n",
    "# y el flujo del programa sigue a la instruccion sin sangria"
   ]
  },
  {
   "cell_type": "markdown",
   "metadata": {},
   "source": [
    "## ELSE y ELIF"
   ]
  },
  {
   "cell_type": "markdown",
   "metadata": {},
   "source": [
    "Se usan cuando quieres que se ejecute un bloque aun cuando la primer expresion es falsa o cuando queremos incluir otra expresión de prueba."
   ]
  },
  {
   "cell_type": "markdown",
   "metadata": {},
   "source": [
    "ELSE se ejecuta cuando la expresión de prueba es false."
   ]
  },
  {
   "cell_type": "markdown",
   "metadata": {},
   "source": [
    "Ejemplo else:"
   ]
  },
  {
   "cell_type": "code",
   "execution_count": 58,
   "metadata": {},
   "outputs": [
    {
     "name": "stdout",
     "output_type": "stream",
     "text": [
      "27\n"
     ]
    }
   ],
   "source": [
    "a = 93\n",
    "b = 27\n",
    "if a <= b:\n",
    "    print(a)\n",
    "else:\n",
    "    print(b)\n",
    "\n",
    "# Imprime b(27) porque la expresión de prueba a<=b es falsa\n",
    "#por lo queel programa continua ejecutando ahora desde \n",
    "#la instruccion else."
   ]
  },
  {
   "cell_type": "markdown",
   "metadata": {},
   "source": [
    "ELIF es una abreviatura de else if (asi lo usa python). El uso de elif permite agregar varias expresiones de prueba. Se ejecutan en orden en que están escritas, por lo que si el if es verdadero ya no se ejecuta el siguiente elif, dicho de otro modo, si el if el falso, se ejecutara el elif que le sigue solo si es verdadero."
   ]
  },
  {
   "cell_type": "markdown",
   "metadata": {},
   "source": [
    "Ejemplo elif:"
   ]
  },
  {
   "cell_type": "code",
   "execution_count": 59,
   "metadata": {},
   "outputs": [
    {
     "name": "stdout",
     "output_type": "stream",
     "text": [
      "a es igual que b\n"
     ]
    }
   ],
   "source": [
    "a = 93\n",
    "b = 93\n",
    "if a > b:\n",
    "    print(\"a es mayor o igual que b\")\n",
    "elif a == b:\n",
    "    print(\"a es igual que b\")\n",
    "\n",
    "#Imprime \"a es igual que b\""
   ]
  },
  {
   "cell_type": "markdown",
   "metadata": {},
   "source": [
    "## Combinar declaraciones if, elif y else"
   ]
  },
  {
   "cell_type": "code",
   "execution_count": 60,
   "metadata": {},
   "outputs": [
    {
     "name": "stdout",
     "output_type": "stream",
     "text": [
      "a es mayor que b\n"
     ]
    }
   ],
   "source": [
    "a = 93\n",
    "b = 27\n",
    "if a > b:   #si a es mayor que b\n",
    "    print(\"a es mayor que b\")   \n",
    "elif a < b:  #de los contrario, evalua a < b\n",
    "    print(\"a es menor que b\")\n",
    "else:         #si no, imprime:\n",
    "    print(\"a es igual que b\")\n",
    "\n",
    "#Imprime a es mayor que b "
   ]
  },
  {
   "cell_type": "markdown",
   "metadata": {},
   "source": [
    "## Lógica condicional anidada"
   ]
  },
  {
   "cell_type": "markdown",
   "metadata": {},
   "source": [
    "Esto es: anidar sentecias if, elif y else.\n",
    "Para esto se indentan las condiciones internas y todo lo que esté en el mismo nivel de sangría se ejecutará en el mismo bloque de código. \n"
   ]
  },
  {
   "cell_type": "code",
   "execution_count": 61,
   "metadata": {},
   "outputs": [
    {
     "name": "stdout",
     "output_type": "stream",
     "text": [
      "a es mayor que b y menor que c\n"
     ]
    }
   ],
   "source": [
    "a = 26\n",
    "b = 25\n",
    "c = 27\n",
    "if  a > b:\n",
    "    if b == c:\n",
    "        print(\"a es mayor que b y b es mayor que c\")\n",
    "    else:\n",
    "        print(\"a es mayor que b y menor que c\")\n",
    "elif a == b:\n",
    "    print(\"a es igual que b\")\n",
    "else:\n",
    "    print(\"a es menor que b\")\n",
    "\n",
    "#Imprime \"a es mayor que b y menor que c\" \n",
    "# primero evalua si a(26) es mayor que b(25), esto es verdad\n",
    "#entonces ejecuta el if de su bloque:\n",
    "# evlua si b(25) es igual a c(27), falso\n",
    "#entonces ejecuta el else"
   ]
  },
  {
   "cell_type": "markdown",
   "metadata": {},
   "source": [
    "## Operadores 'and' y 'or'"
   ]
  },
  {
   "cell_type": "markdown",
   "metadata": {},
   "source": [
    "Para evaluar varias condiciones if, elif y else en una instrucción. Para esto se usan los operadores booleanos and y or"
   ]
  },
  {
   "cell_type": "markdown",
   "metadata": {},
   "source": [
    "## Operador or"
   ]
  },
  {
   "cell_type": "markdown",
   "metadata": {},
   "source": [
    "subexpresión1 or subexpresión2\n",
    "Si una subexpresión es verdadera toda la expresión es verdadera"
   ]
  },
  {
   "cell_type": "code",
   "execution_count": 62,
   "metadata": {},
   "outputs": [
    {
     "name": "stdout",
     "output_type": "stream",
     "text": [
      "57\n"
     ]
    }
   ],
   "source": [
    "a = 23\n",
    "b = 34\n",
    "if a == 34 or b == 34:\n",
    "    print(a+b)\n",
    "\n",
    "#imprime 57 ya que la subexpresion b == 34 es verdadera"
   ]
  },
  {
   "cell_type": "markdown",
   "metadata": {},
   "source": [
    "## Operador and"
   ]
  },
  {
   "cell_type": "markdown",
   "metadata": {},
   "source": [
    "subexpresion1 and subexprsion2\n",
    "Ambas deben ser verdaderas para que toda la expresión sea verdadera."
   ]
  },
  {
   "cell_type": "code",
   "execution_count": 63,
   "metadata": {},
   "outputs": [],
   "source": [
    "a = 23\n",
    "b = 34\n",
    "if a == 34 and b == 34:\n",
    "    print (a + b)\n",
    "\n",
    "#no imprime nada ya que la expresion a == 34 es falsa y\n",
    "# ambas deberían ser verdaderas."
   ]
  }
 ],
 "metadata": {
  "interpreter": {
   "hash": "e7370f93d1d0cde622a1f8e1c04877d8463912d04d973331ad4851f04de6915a"
  },
  "kernelspec": {
   "display_name": "Python 3.10.2 64-bit",
   "language": "python",
   "name": "python3"
  },
  "language_info": {
   "codemirror_mode": {
    "name": "ipython",
    "version": 3
   },
   "file_extension": ".py",
   "mimetype": "text/x-python",
   "name": "python",
   "nbconvert_exporter": "python",
   "pygments_lexer": "ipython3",
   "version": "3.10.2"
  },
  "orig_nbformat": 4
 },
 "nbformat": 4,
 "nbformat_minor": 2
}
