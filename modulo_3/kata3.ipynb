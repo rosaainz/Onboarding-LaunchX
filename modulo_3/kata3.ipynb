{
 "cells": [
  {
   "cell_type": "markdown",
   "metadata": {},
   "source": [
    "## Ejercicio - Escribir declaraciones if, else y elif"
   ]
  },
  {
   "cell_type": "markdown",
   "metadata": {},
   "source": [
    "Escribir un programa que imprima una advertencia si un asteroide se acerca a la tierra demasiado rapido. La velocidad del asteroide varía depenciendo de lo cerca que esté del sol y cualquier velocidad superior a 25 kilometros por segundo (km/s) merece una advertencia.\n"
   ]
  },
  {
   "cell_type": "markdown",
   "metadata": {},
   "source": [
    "Datos importantes:\n",
    "- salida: advertencia si la velocidad del ateroide es mayor a 25km/s\n",
    "- entrada: para esa advertencia necesitamos saber la velocidad del asteroide, por lo que será nuestra entrada"
   ]
  },
  {
   "cell_type": "markdown",
   "metadata": {},
   "source": [
    "En el ejercicio nos dan el valor de la velocidad del asteroide que es 49km/s"
   ]
  },
  {
   "cell_type": "code",
   "execution_count": 15,
   "metadata": {},
   "outputs": [
    {
     "name": "stdout",
     "output_type": "stream",
     "text": [
      "Advertencia, asteroide cerca de la tierra\n"
     ]
    }
   ],
   "source": [
    "velocidad = 49\n",
    "\n",
    "if velocidad > 25 :\n",
    "    print(\"Advertencia, asteroide cerca de la tierra\")\n",
    "else:\n",
    "    print(\"Buen día\")\n"
   ]
  },
  {
   "cell_type": "markdown",
   "metadata": {},
   "source": [
    "Si un asteroide entra en la atmósfera de la Tierra a una velocidad mayor o igual a 20km/s, a veces produce un rayo d eluz que se puede ver desde la Tierra. Escribe la lógica condicional que usa declaraciones if, else y elif para alertar a las personas de todo el mundo que deben buscar un asteroide en el cielo ¡Hay uno que se dirige a la tierra ahora a una velocidad de 19km/s!"
   ]
  },
  {
   "cell_type": "markdown",
   "metadata": {},
   "source": [
    "Datos importantes: \n",
    "- Debemos imprimir: si un asteroide llega a la tiera con una velocidad mayor o igual que 20km/s debemos imprimir una advertencia para que el mundo vea al cielo, ya que el esteroide si va a una velocidad mayor o igual que 20km/s puede que produzca un rayo de luz que se vea desde la tierra.\n",
    "- necesitamos saber la velocidad del asteroide"
   ]
  },
  {
   "cell_type": "markdown",
   "metadata": {},
   "source": [
    "En el ejercicio nos dan la velocidad de 19km/s"
   ]
  },
  {
   "cell_type": "code",
   "execution_count": 16,
   "metadata": {},
   "outputs": [
    {
     "name": "stdout",
     "output_type": "stream",
     "text": [
      "Buen día\n"
     ]
    }
   ],
   "source": [
    "velocidad = 19\n",
    "if velocidad > 25:\n",
    "    print(\"ADVERTENCIA: Se acerca un asteroide que destruirá la Tierra\")\n",
    "elif velocidad >= 20:\n",
    "    print(\"Busca en el cielo un asteroide. ¡Hay uno que se dirige a la tierra ahora!\")\n",
    "else:\n",
    "    print(\"Buen día\")\n",
    "\n"
   ]
  },
  {
   "cell_type": "markdown",
   "metadata": {},
   "source": [
    "## Ejercicio: Uso de operadores and y or"
   ]
  },
  {
   "cell_type": "markdown",
   "metadata": {},
   "source": [
    "- Los asteroides de menos de 25 metros en su dimensión más grande probablemente se quemarán a medida que entren a la tierra  (NO PASA NADA)\n",
    "- Si una pieza de un asteroide es más grande que 25 metros pero más pequeña que 1000 metros, si golpeara la tierra causaria mucho daño. (ADVERTENCIA)\n",
    "- La velocidad del asteroide varía en función de lo cerca que este del sol, y cualquier velocidad superior a 25km/s (ADVERTENCIA)\n",
    "- si un asteroide entra a a tierra a una velocidad mayor o igual a 20km/s, puede que se produzca un rayo de luz en el cielo. (NO PASA MUCHO)\n",
    "\n",
    "Escribir un programa que de la informacion correcta del asteroide. "
   ]
  },
  {
   "cell_type": "code",
   "execution_count": 17,
   "metadata": {},
   "outputs": [
    {
     "name": "stdout",
     "output_type": "stream",
     "text": [
      "ADVERTENCIA: Se espera un asteroide que causará mucho daño a la Tierra\n"
     ]
    }
   ],
   "source": [
    "velocidad_asteroide = 20\n",
    "tamaño_asteroide = 30\n",
    "\n",
    "if tamaño_asteroide > 25:\n",
    "    if tamaño_asteroide >= 25 and tamaño_asteroide < 1000:\n",
    "        print(\"ADVERTENCIA: Se espera un asteroide que causará mucho daño a la Tierra\")\n",
    "    else:\n",
    "        print(\"Ten buen día\")\n",
    "elif velocidad_asteroide >= 20:\n",
    "    print(\"¡Rayo de luz en el cielo!\")\n",
    "else:\n",
    "    print(\"Disfruta tu día\")"
   ]
  }
 ],
 "metadata": {
  "interpreter": {
   "hash": "e7370f93d1d0cde622a1f8e1c04877d8463912d04d973331ad4851f04de6915a"
  },
  "kernelspec": {
   "display_name": "Python 3.10.2 64-bit",
   "language": "python",
   "name": "python3"
  },
  "language_info": {
   "codemirror_mode": {
    "name": "ipython",
    "version": 3
   },
   "file_extension": ".py",
   "mimetype": "text/x-python",
   "name": "python",
   "nbconvert_exporter": "python",
   "pygments_lexer": "ipython3",
   "version": "3.10.2"
  },
  "orig_nbformat": 4
 },
 "nbformat": 4,
 "nbformat_minor": 2
}
