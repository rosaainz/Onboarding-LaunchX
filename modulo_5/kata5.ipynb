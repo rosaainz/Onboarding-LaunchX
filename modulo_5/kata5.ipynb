{
 "cells": [
  {
   "cell_type": "markdown",
   "metadata": {},
   "source": [
    "## Ejercicio 1 -Utilizar operadores aritméticos"
   ]
  },
  {
   "cell_type": "markdown",
   "metadata": {},
   "source": [
    "Crear un programa quepueda calcularla distancia entre dos planetas. \n",
    "Tierra(149.597.870 km) y Júpiter (778.547.200 km)"
   ]
  },
  {
   "cell_type": "markdown",
   "metadata": {},
   "source": [
    "- Usamos abs para no tener errores de tener una distancia negativa. "
   ]
  },
  {
   "cell_type": "code",
   "execution_count": 16,
   "metadata": {},
   "outputs": [
    {
     "name": "stdout",
     "output_type": "stream",
     "text": [
      "628949330\n",
      "390577533.93\n"
     ]
    }
   ],
   "source": [
    "tierra_distancia = 149597870 #km\n",
    "jupiter_distancia = 778547200 #km\n",
    "\n",
    "distancia = abs(tierra_distancia - jupiter_distancia)\n",
    "distancia_millas = distancia * 0.621 #millas\n",
    "\n",
    "print(distancia)\n",
    "print(distancia_millas)\n"
   ]
  },
  {
   "cell_type": "markdown",
   "metadata": {},
   "source": [
    "## Ejercicio 2 - Convierte cadenas en número y usa valores absolutos"
   ]
  },
  {
   "cell_type": "markdown",
   "metadata": {},
   "source": [
    "Crear una aplicación para trabajar con números y entrada de usuario. Para crear la aplicación, se pide LEER la distancia del sol para dos planetas, y luego MOSTRAR la distancia entre los planetas.\n",
    "- Para leer los valores se usara input\n",
    "- int para convertir a entrero y luego abs oara convertir el resultado final a absoluto."
   ]
  },
  {
   "cell_type": "code",
   "execution_count": 17,
   "metadata": {},
   "outputs": [
    {
     "name": "stdout",
     "output_type": "stream",
     "text": [
      "2000000\n",
      "1242000.0\n"
     ]
    }
   ],
   "source": [
    "# almacenamos las distancias\n",
    "planeta1 = input(\"Distancia de marte al sol\")\n",
    "planeta2 = input(\"Distancia de jupiter al sol\")\n",
    "\n",
    "#convertimos a entero\n",
    "planeta1 = int(planeta1)\n",
    "planeta2 = int(planeta2)\n",
    "\n",
    "# calculamos la distancia\n",
    "distancia_planetas = planeta1 - planeta2 #km\n",
    "planetas_millas = distancia_planetas * 0.621\n",
    "\n",
    "\n",
    "print(abs(distancia_planetas))\n",
    "print(abs(planetas_millas))"
   ]
  }
 ],
 "metadata": {
  "interpreter": {
   "hash": "e7370f93d1d0cde622a1f8e1c04877d8463912d04d973331ad4851f04de6915a"
  },
  "kernelspec": {
   "display_name": "Python 3.10.2 64-bit",
   "language": "python",
   "name": "python3"
  },
  "language_info": {
   "codemirror_mode": {
    "name": "ipython",
    "version": 3
   },
   "file_extension": ".py",
   "mimetype": "text/x-python",
   "name": "python",
   "nbconvert_exporter": "python",
   "pygments_lexer": "ipython3",
   "version": "3.10.2"
  },
  "orig_nbformat": 4
 },
 "nbformat": 4,
 "nbformat_minor": 2
}
