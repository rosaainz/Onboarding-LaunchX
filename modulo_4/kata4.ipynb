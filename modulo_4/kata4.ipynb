{
 "cells": [
  {
   "cell_type": "markdown",
   "metadata": {},
   "source": [
    "## Ejercicio 1: Transformar cadenas"
   ]
  },
  {
   "cell_type": "markdown",
   "metadata": {},
   "source": [
    "Primero, divide el texto en cada ORACIÓN \n",
    "- Las oraciones terminan en punto por lo que indicaremos que se divida cada que encuentre un punto."
   ]
  },
  {
   "cell_type": "code",
   "execution_count": 313,
   "metadata": {},
   "outputs": [
    {
     "data": {
      "text/plain": [
       "['Interesting facts about the Moon',\n",
       " \" The Moon is Earth's only satellite\",\n",
       " ' There are several interesting facts about the Moon and how it affects life here on Earth',\n",
       " ' \\nOn average, the Moon moves 4cm away from the Earth every year',\n",
       " ' This yearly drift is not significant enough to cause immediate effects on Earth',\n",
       " ' The highest daylight temperature of the Moon is 127 C',\n",
       " '']"
      ]
     },
     "execution_count": 313,
     "metadata": {},
     "output_type": "execute_result"
    }
   ],
   "source": [
    "text = \"\"\"Interesting facts about the Moon. The Moon is Earth's only satellite. There are several interesting facts about the Moon and how it affects life here on Earth. \n",
    "On average, the Moon moves 4cm away from the Earth every year. This yearly drift is not significant enough to cause immediate effects on Earth. The highest daylight temperature of the Moon is 127 C.\"\"\"\n",
    "\n",
    "text .split('.')"
   ]
  },
  {
   "cell_type": "markdown",
   "metadata": {},
   "source": [
    "Ahora, DEFINE unas palabras clave para su busqueda.\n",
    "- Se pide usar las palabras clave: average, temperatur y distance"
   ]
  },
  {
   "cell_type": "code",
   "execution_count": 314,
   "metadata": {},
   "outputs": [],
   "source": [
    "key_words = \"average\", \"temperature\", \"distance\""
   ]
  },
  {
   "cell_type": "markdown",
   "metadata": {},
   "source": [
    "Crea un BUCLE FOR para IMPRIMIR solo DATOS sobre la Luna que estan RELACIONADOS con las PALABRAS CLAVE."
   ]
  },
  {
   "cell_type": "code",
   "execution_count": 315,
   "metadata": {},
   "outputs": [],
   "source": [
    "for data in text:\n",
    "    for key_word in key_words:\n",
    "            if data.find(key_word) == -1:\n",
    "                break\n",
    "            else:\n",
    "                print(data)\n",
    "            \n"
   ]
  },
  {
   "cell_type": "markdown",
   "metadata": {},
   "source": [
    "Actualiza el BUCLE para CAMBIAR C a Celsius."
   ]
  },
  {
   "cell_type": "code",
   "execution_count": 316,
   "metadata": {},
   "outputs": [],
   "source": [
    "for data in text:\n",
    "    for key_word in key_words:\n",
    "            if data.find(key_word) == -1:\n",
    "                break\n",
    "            else:\n",
    "                print(data.replace('C', 'Celcius'))"
   ]
  },
  {
   "cell_type": "markdown",
   "metadata": {},
   "source": [
    "## Ejrcicio 2: Formateando Cadenas"
   ]
  },
  {
   "cell_type": "markdown",
   "metadata": {},
   "source": [
    "El formato tiene que acomodar información sobre otras lunas, por lo que debe ser genérico.\n",
    "En lugar de reemplazar las variables en una cadena larga como parte de un párrafo, utiliza la información "
   ]
  },
  {
   "cell_type": "markdown",
   "metadata": {},
   "source": [
    "Utiliza la información para presentarla en un formato tabular, así:\n",
    "- Gravity Facts about Ganymede\n",
    "- ----------------------------------\n",
    "- Planet Name: Mars\n",
    "- Gravity on Ganymede: 1.400000000002 m/s2"
   ]
  },
  {
   "cell_type": "markdown",
   "metadata": {},
   "source": [
    "Primero crea un título para el texto. Este texto trata sobre la gravedad en la Tierra y la Luna, crea un título significativo. UTILIZA LAS VARIABLES en lugar de escribir."
   ]
  },
  {
   "cell_type": "code",
   "execution_count": 317,
   "metadata": {},
   "outputs": [
    {
     "name": "stdout",
     "output_type": "stream",
     "text": [
      "Facts About Gravity On The Earth And The Moon\n"
     ]
    }
   ],
   "source": [
    "name = \"Moon\"\n",
    "gravity = 0.00162 #in kms \n",
    "planet = \"Earth\"\n",
    "\n",
    "title = f\"facts about gravity on the {planet} and the {name}\".title()\n",
    "print(title)"
   ]
  },
  {
   "cell_type": "markdown",
   "metadata": {},
   "source": [
    "Ahora CREA una PLANTILLA de cadena MULTILÍNEA para CONTENER el resto de la info. En lugar de usar kilometros, CONVERTIR la distancia a METROS multiplicando por 1,000."
   ]
  },
  {
   "cell_type": "code",
   "execution_count": 318,
   "metadata": {},
   "outputs": [
    {
     "name": "stdout",
     "output_type": "stream",
     "text": [
      "Planet Name: Earth \n",
      "Gravity on Moon: 1.6199999999999999 m/s2 \n"
     ]
    }
   ],
   "source": [
    "#plantilla\n",
    "plantilla = f\"\"\"Planet Name: {planet} \n",
    "Gravity on {name}: {gravity * 1000} m/s2 \"\"\"\n",
    "print(plantilla)"
   ]
  },
  {
   "cell_type": "markdown",
   "metadata": {},
   "source": [
    "usa AMBAS VARIABLES para UNIR el TÍTULO y los HECHOS"
   ]
  },
  {
   "cell_type": "code",
   "execution_count": 319,
   "metadata": {},
   "outputs": [
    {
     "name": "stdout",
     "output_type": "stream",
     "text": [
      "Facts About Gravity On The Earth And The Moon\n",
      "-------------------------\n",
      "Planet Name: Earth \n",
      "Gravity on Moon: 1.6199999999999999 m/s2 \n"
     ]
    }
   ],
   "source": [
    "#union de ambas cadenas \n",
    "completo = f\"\"\"{title}\n",
    "-------------------------\n",
    "{plantilla}\"\"\"\n",
    "print(completo)"
   ]
  },
  {
   "cell_type": "markdown",
   "metadata": {},
   "source": [
    "Usa datos muestra diferentes para ver si la plantilla funciona.\n",
    "- Datos muestra:\n",
    "- planeta = 'Marte'\n",
    "- gravedad = 0.00143\n",
    "- nombre 'Ganímedes'"
   ]
  },
  {
   "cell_type": "code",
   "execution_count": 320,
   "metadata": {},
   "outputs": [
    {
     "name": "stdout",
     "output_type": "stream",
     "text": [
      "Facts About Gravity On The Earth And The Moon\n",
      "-------------------------\n",
      "Planet Name: Earth \n",
      "Gravity on Moon: 1.6199999999999999 m/s2 \n"
     ]
    }
   ],
   "source": [
    "#comprueba plantilla\n",
    "#Datos muestra:\n",
    "name = \"Ganímedes\"\n",
    "gravity = 0.00143 #in kms \n",
    "planet = \"Marte\"\n",
    "print(completo)"
   ]
  },
  {
   "cell_type": "markdown",
   "metadata": {},
   "source": [
    "Al usar f en las cadenas, las variabes ya no se pueden reasignar. Por lo que se recomeinda usar .format()"
   ]
  },
  {
   "cell_type": "code",
   "execution_count": 321,
   "metadata": {},
   "outputs": [
    {
     "ename": "KeyError",
     "evalue": "'gravity * 1000'",
     "output_type": "error",
     "traceback": [
      "\u001b[0;31m---------------------------------------------------------------------------\u001b[0m",
      "\u001b[0;31mKeyError\u001b[0m                                  Traceback (most recent call last)",
      "Input \u001b[0;32mIn [321]\u001b[0m, in \u001b[0;36m<module>\u001b[0;34m\u001b[0m\n\u001b[1;32m      1\u001b[0m nueva_plantilla \u001b[38;5;241m=\u001b[39m \u001b[38;5;124m\"\"\"\u001b[39m\u001b[38;5;124mGravity Facts about \u001b[39m\u001b[38;5;132;01m{name}\u001b[39;00m\n\u001b[1;32m      2\u001b[0m \u001b[38;5;124m-----------------------\u001b[39m\n\u001b[1;32m      3\u001b[0m \u001b[38;5;124mPlanet Name: \u001b[39m\u001b[38;5;132;01m{planet}\u001b[39;00m\n\u001b[1;32m      4\u001b[0m \u001b[38;5;124mGravity on Ganymede \u001b[39m\u001b[38;5;124m{\u001b[39m\u001b[38;5;124mgravity * 1000} m/s2\u001b[39m\u001b[38;5;124m\"\"\"\u001b[39m\n\u001b[0;32m----> 6\u001b[0m \u001b[38;5;28mprint\u001b[39m(\u001b[43mnueva_plantilla\u001b[49m\u001b[38;5;241;43m.\u001b[39;49m\u001b[43mformat\u001b[49m\u001b[43m(\u001b[49m\u001b[43mname\u001b[49m\u001b[43m \u001b[49m\u001b[38;5;241;43m=\u001b[39;49m\u001b[43m \u001b[49m\u001b[43mname\u001b[49m\u001b[43m,\u001b[49m\u001b[43m \u001b[49m\u001b[43mplanet\u001b[49m\u001b[43m \u001b[49m\u001b[38;5;241;43m=\u001b[39;49m\u001b[43m \u001b[49m\u001b[43mplanet\u001b[49m\u001b[43m,\u001b[49m\u001b[43m \u001b[49m\u001b[43mgravity\u001b[49m\u001b[43m \u001b[49m\u001b[38;5;241;43m=\u001b[39;49m\u001b[43m \u001b[49m\u001b[43mgravity\u001b[49m\u001b[43m)\u001b[49m)\n",
      "\u001b[0;31mKeyError\u001b[0m: 'gravity * 1000'"
     ]
    }
   ],
   "source": [
    "nueva_plantilla = \"\"\"Gravity Facts about {name}\n",
    "-----------------------\n",
    "Planet Name: {planet}\n",
    "Gravity on Ganymede {gravity * 1000} m/s2\"\"\"\n",
    "\n",
    "print(nueva_plantilla.format(name = name, planet = planet, gravity = gravity))"
   ]
  },
  {
   "cell_type": "markdown",
   "metadata": {},
   "source": [
    "Debido a que .format() no permite expresiones, la GRAVEDAD en Grímedes es incorrecta, por lo que la OPERACION (CONVERSION) se debe realizar FUERA de la PLANTILLA de formato e imprimir de nuevo para ver el resultado de trabajo."
   ]
  },
  {
   "cell_type": "code",
   "execution_count": null,
   "metadata": {},
   "outputs": [
    {
     "name": "stdout",
     "output_type": "stream",
     "text": [
      "Gravity Facts about Ganímedes\n",
      "-----------------------\n",
      "Planet Name: Marte\n",
      "Gravity on Ganímedes: 1.4300000000000002 m/s2\n"
     ]
    }
   ],
   "source": [
    "gravedad_metros = gravity * 1000\n",
    "nueva_plantilla = \"\"\"Gravity Facts about {name}\n",
    "-----------------------\n",
    "Planet Name: {planet}\n",
    "Gravity on {name}: {gravedad_metros} m/s2\"\"\"\n",
    "\n",
    "print(nueva_plantilla.format(name = name, planet = planet, gravedad_metros = gravedad_metros))\n"
   ]
  }
 ],
 "metadata": {
  "interpreter": {
   "hash": "e7370f93d1d0cde622a1f8e1c04877d8463912d04d973331ad4851f04de6915a"
  },
  "kernelspec": {
   "display_name": "Python 3.10.2 64-bit",
   "language": "python",
   "name": "python3"
  },
  "language_info": {
   "codemirror_mode": {
    "name": "ipython",
    "version": 3
   },
   "file_extension": ".py",
   "mimetype": "text/x-python",
   "name": "python",
   "nbconvert_exporter": "python",
   "pygments_lexer": "ipython3",
   "version": "3.10.2"
  },
  "orig_nbformat": 4
 },
 "nbformat": 4,
 "nbformat_minor": 2
}
